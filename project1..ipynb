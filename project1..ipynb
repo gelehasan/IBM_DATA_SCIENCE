Exercise 1: Create a Jupyter Notebook

Name: "Data Science Overview".

Exercise 2: Create a Markdown Cell for the Notebook Title

# Data Science Overview

Exercise 3: Create a Markdown Cell for an Introduction

For the introduction, I included a markdown cell that explained the content of the notebook:
"This notebook is a brief summary of the Data Science tools, languages, and libraries used in the industry."

Exercise 4: List Data Science Languages

In this exercise, I listed some of the common programming languages used by Data Scientists in a markdown cell:

Python
R
SQL
Julia
C++
JavaScript

Exercise 5: List Data Science Libraries

Some widely used libraries in Data Science including:

TensorFlow
Pandas
NumPy
Matplotlib
PyTorch

Exercise 6: Create a Table of Data Science Tools

In this markdown cell I created a table to highlight some popular tools in Data Science:

Tool	Description
Jupyter	A popular notebook tool for interactive coding
RStudio	IDE commonly used with R for data analysis
Apache Hadoop	A framework that allows distributed processing of large data sets


Exercise 7: Introduce Arithmetic Expression Examples

I used this markdown cell to introduce the following:
"Here are some examples of basic arithmetic operations in Python."

Exercise 8: Multiply and Add Numbers

In this code cell, I used a simple arithmetic expression to multiply and add numbers:

''
(4 * 5) + 3
Result: 23
''
Exercise 9: Convert Minutes to Hours

Here, I wrote a code cell to convert 300 minutes to hours:

python
Copy code
minutes = 300
hours = minutes / 60
print(f"{hours} hours")
Result: 5.0 hours

Exercise 10: List Objectives

After completing the exercises, I listed the objectives in a markdown cell. These were the key takeaways from the notebook:

List commonly used programming languages for Data Science.
Identify essential libraries used by Data Scientists.
Learn basic arithmetic operations in Python.
Exercise 11: Author’s Name

Finally, I added my name in a markdown cell to indicate the author:
Author: [Your Name]

Exercise 12: Sharing the Notebook via GitHub

Once the notebook was complete, I shared it on GitHub as instructed.

Exercise 13: Screenshot of the First Page

I took a screenshot of the first page of my notebook and included it with my submission.
