{
 "cells": [
  {
   "cell_type": "markdown",
   "id": "b212f606",
   "metadata": {},
   "source": [
    "# Data Science Overview"
   ]
  },
  {
   "cell_type": "markdown",
   "id": "6f37b4ea",
   "metadata": {},
   "source": [
    "In this notebook, a brief summary of the Data Science tools, languages, and libraries used in the industry is provided."
   ]
  },
  {
   "cell_type": "markdown",
   "id": "01debcee",
   "metadata": {},
   "source": [
    "### Data Science Languages\n",
    "- Python\n",
    "- R\n",
    "- SQL\n",
    "- Julia\n",
    "- C++\n",
    "- JavaScript"
   ]
  },
  {
   "cell_type": "markdown",
   "id": "64840971",
   "metadata": {},
   "source": [
    "### Data Science Libraries\n",
    "- TensorFlow\n",
    "- Pandas\n",
    "- NumPy\n",
    "- Matplotlib\n",
    "- PyTorch"
   ]
  },
  {
   "cell_type": "markdown",
   "id": "e57fa301",
   "metadata": {},
   "source": [
    "### Data Science Tools\n",
    "\n",
    "| Tool         | Description                                |\n",
    "|--------------|--------------------------------------------|\n",
    "| Jupyter      | A popular notebook tool for interactive coding |\n",
    "| RStudio      | IDE commonly used with R for data analysis   |\n",
    "| Apache Hadoop| A framework that allows distributed processing of large data sets |"
   ]
  },
  {
   "cell_type": "markdown",
   "id": "2f29642a",
   "metadata": {},
   "source": [
    "### Arithmetic Expression Examples\n",
    "Below are some examples of basic arithmetic operations in Python."
   ]
  },
  {
   "cell_type": "code",
   "execution_count": null,
   "id": "fd76b091",
   "metadata": {},
   "outputs": [],
   "source": [
    "(4 * 5) + 3\n",
    "# Result: 23"
   ]
  },
  {
   "cell_type": "code",
   "execution_count": null,
   "id": "4c4cf6f2",
   "metadata": {},
   "outputs": [],
   "source": [
    "minutes = 300\n",
    "hours = minutes / 60\n",
    "print(f\"{hours} hours\")\n",
    "# Result: 5.0 hours"
   ]
  },
  {
   "cell_type": "markdown",
   "id": "a4f13eea",
   "metadata": {},
   "source": [
    "### Objectives\n",
    "- List commonly used programming languages for Data Science.\n",
    "- Identify essential libraries used by Data Scientists.\n",
    "- Learn basic arithmetic operations in Python."
   ]
  },
  {
   "cell_type": "markdown",
   "id": "e92e2d26",
   "metadata": {},
   "source": [
    "**Author:** [Your Name]"
   ]
  },
  {
   "cell_type": "markdown",
   "id": "207c0da7",
   "metadata": {},
   "source": [
    "Once the notebook was completed, it was shared on GitHub."
   ]
  },
  {
   "cell_type": "markdown",
   "id": "cb76bf76",
   "metadata": {},
   "source": [
    "A screenshot of the first page of the notebook was taken and included in the submission."
   ]
  }
 ],
 "metadata": {},
 "nbformat": 4,
 "nbformat_minor": 5
}
